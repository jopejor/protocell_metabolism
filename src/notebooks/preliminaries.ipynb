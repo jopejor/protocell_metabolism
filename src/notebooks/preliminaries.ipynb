{
 "cells": [
  {
   "cell_type": "markdown",
   "metadata": {},
   "source": [
    "# Julia notebook for the analytics of the multilevel selection Wright-Fisher process"
   ]
  },
  {
   "cell_type": "markdown",
   "metadata": {},
   "source": [
    "**First, we will start with some preliminaries about matrix exponentiation and logarithms in order to bring the Wright-Fisher to a form where the Campbell-Baker-Hausdorf formula can be applied**"
   ]
  },
  {
   "cell_type": "code",
   "execution_count": 14,
   "metadata": {},
   "outputs": [
    {
     "data": {
      "text/plain": [
       "T_construct (generic function with 1 method)"
      ]
     },
     "execution_count": 14,
     "metadata": {},
     "output_type": "execute_result"
    }
   ],
   "source": [
    "#Required packages\n",
    "using Distributions\n",
    "using Combinatorics\n",
    "using Iterators\n",
    "using ClusterManagers\n",
    "using DataFrames\n",
    "using Plots\n",
    "\n",
    "#Function to generate the state space\n",
    "function states(state_vec)\n",
    "\tstate_zero = collect(permutations(state_vec[1]))\n",
    "\tfor i=1:length(state_vec)\n",
    "\t\tadditional=collect(permutations(state_vec[i]))\n",
    "\t\tstate_zero=append!(state_zero,additional)\n",
    "\tend\n",
    "\tstate_zero=unique(state_zero)\n",
    "\treturn state_zero\n",
    "end\n",
    "\n",
    "function multinomial2(k)\n",
    "    s = 0\n",
    "    result = 1\n",
    "    @inbounds for i in k\n",
    "        s += i\n",
    "        result *= binomial(BigInt(s), i)\n",
    "    end\n",
    "    result\n",
    "end\n",
    "#CBH formula to third order\n",
    "\n",
    "function commute_mat(A,B)\n",
    "    com=A*B-B*A\n",
    "    return com\n",
    "end\n",
    "\n",
    "function CBH(A,B)\n",
    "    Z=A+B+1/2*commute_mat(A,B)+1/12*(commute_mat(A,commute_mat(A,B))+commute_mat(B,commute_mat(B,A)))\n",
    "    return Z\n",
    "end\n",
    "\n",
    "#Lets start defining a fitness function, in the packge model literature is costumary to make use of the geometric average.\n",
    "function gmean(A::Array{Int64,1})\n",
    "\t# geometric average of a vector\n",
    "\t#value=prod(A)^(1/length(A))\n",
    "    value=A[1]/sum(A)*(1-A[1]/sum(A))\n",
    "\treturn value\n",
    "    end;\n",
    "    #value of the transition matrix\n",
    "function t_ij(u,v)\n",
    "    #probability from state u to state v\n",
    "    p=deepcopy(u)/sum(u)\n",
    "    prob=multinomial2(v)*prod(p.^v)\n",
    "    prob=convert(Float64,prob)\n",
    "    return prob\n",
    "end\n",
    "\n",
    "\n",
    "function T_construct(N::Int64,seqtypes::Int64)\n",
    "    state_vec=collect(partitions(N+seqtypes,seqtypes))-1\n",
    "    state_zero=states(state_vec)\n",
    "    state_zero=sort(state_zero, lt=(x,y)->isless(x[1], y[1]))\n",
    "    T=[t_ij(state_zero[i],state_zero[j]) for i in 1:length(state_zero), j in 1:length(state_zero)]\n",
    "    return T\n",
    "end\n",
    "    "
   ]
  },
  {
   "cell_type": "markdown",
   "metadata": {},
   "source": [
    "**CBH example**"
   ]
  },
  {
   "cell_type": "code",
   "execution_count": null,
   "metadata": {},
   "outputs": [],
   "source": [
    "#For two matrices\n",
    "A=[0.3 0;0 0.2]\n",
    "B=[0.6 0.5;0.4 0.5]"
   ]
  },
  {
   "cell_type": "code",
   "execution_count": null,
   "metadata": {},
   "outputs": [],
   "source": [
    "#Make sure they do not commute\n",
    "commute_mat(A,B)"
   ]
  },
  {
   "cell_type": "code",
   "execution_count": null,
   "metadata": {},
   "outputs": [],
   "source": [
    "#Calculate the CBH matrix \n",
    "Z=CBH(logm(A),logm(B))"
   ]
  },
  {
   "cell_type": "code",
   "execution_count": null,
   "metadata": {},
   "outputs": [],
   "source": [
    "eigvecs(A*B)"
   ]
  },
  {
   "cell_type": "code",
   "execution_count": null,
   "metadata": {},
   "outputs": [],
   "source": [
    "eigvecs(Z)"
   ]
  },
  {
   "cell_type": "code",
   "execution_count": null,
   "metadata": {},
   "outputs": [],
   "source": [
    "#Study the eigenvectors\n",
    "eigvecs(*(A,B))"
   ]
  },
  {
   "cell_type": "code",
   "execution_count": null,
   "metadata": {},
   "outputs": [],
   "source": [
    "eigvecs(expm(B))"
   ]
  },
  {
   "cell_type": "markdown",
   "metadata": {},
   "source": [
    "# logTij equivalence to the differential operator in Kimura"
   ]
  },
  {
   "cell_type": "code",
   "execution_count": 70,
   "metadata": {},
   "outputs": [],
   "source": [
    "#Parameters\n",
    "N=150;\n",
    "seqtypes=2;"
   ]
  },
  {
   "cell_type": "markdown",
   "metadata": {},
   "source": [
    "The state space of the protocell model is are the solutions to the Diophantine equations x+y=N where N is the ploidy. Here is a way of generating it."
   ]
  },
  {
   "cell_type": "code",
   "execution_count": 71,
   "metadata": {},
   "outputs": [
    {
     "data": {
      "text/plain": [
       "151-element Array{Array{Int64,1},1}:\n",
       " [0, 150] \n",
       " [1, 149] \n",
       " [2, 148] \n",
       " [3, 147] \n",
       " [4, 146] \n",
       " [5, 145] \n",
       " [6, 144] \n",
       " [7, 143] \n",
       " [8, 142] \n",
       " [9, 141] \n",
       " [10, 140]\n",
       " [11, 139]\n",
       " [12, 138]\n",
       " ⋮        \n",
       " [139, 11]\n",
       " [140, 10]\n",
       " [141, 9] \n",
       " [142, 8] \n",
       " [143, 7] \n",
       " [144, 6] \n",
       " [145, 5] \n",
       " [146, 4] \n",
       " [147, 3] \n",
       " [148, 2] \n",
       " [149, 1] \n",
       " [150, 0] "
      ]
     },
     "execution_count": 71,
     "metadata": {},
     "output_type": "execute_result"
    }
   ],
   "source": [
    "state_vec=collect(partitions(N+seqtypes,seqtypes))-1\n",
    "state_zero=states(state_vec)\n",
    "state_zero=sort(state_zero, lt=(x,y)->isless(x[1], y[1]))"
   ]
  },
  {
   "cell_type": "code",
   "execution_count": 72,
   "metadata": {},
   "outputs": [
    {
     "data": {
      "text/plain": [
       "151×151 Diagonal{Float64}:\n",
       " 0.0   ⋅           ⋅          ⋅      …   ⋅       ⋅          ⋅           ⋅ \n",
       "  ⋅   0.00662222   ⋅          ⋅          ⋅       ⋅          ⋅           ⋅ \n",
       "  ⋅    ⋅          0.0131556   ⋅          ⋅       ⋅          ⋅           ⋅ \n",
       "  ⋅    ⋅           ⋅         0.0196      ⋅       ⋅          ⋅           ⋅ \n",
       "  ⋅    ⋅           ⋅          ⋅          ⋅       ⋅          ⋅           ⋅ \n",
       "  ⋅    ⋅           ⋅          ⋅      …   ⋅       ⋅          ⋅           ⋅ \n",
       "  ⋅    ⋅           ⋅          ⋅          ⋅       ⋅          ⋅           ⋅ \n",
       "  ⋅    ⋅           ⋅          ⋅          ⋅       ⋅          ⋅           ⋅ \n",
       "  ⋅    ⋅           ⋅          ⋅          ⋅       ⋅          ⋅           ⋅ \n",
       "  ⋅    ⋅           ⋅          ⋅          ⋅       ⋅          ⋅           ⋅ \n",
       "  ⋅    ⋅           ⋅          ⋅      …   ⋅       ⋅          ⋅           ⋅ \n",
       "  ⋅    ⋅           ⋅          ⋅          ⋅       ⋅          ⋅           ⋅ \n",
       "  ⋅    ⋅           ⋅          ⋅          ⋅       ⋅          ⋅           ⋅ \n",
       " ⋮                                   ⋱                                 ⋮  \n",
       "  ⋅    ⋅           ⋅          ⋅          ⋅       ⋅          ⋅           ⋅ \n",
       "  ⋅    ⋅           ⋅          ⋅      …   ⋅       ⋅          ⋅           ⋅ \n",
       "  ⋅    ⋅           ⋅          ⋅          ⋅       ⋅          ⋅           ⋅ \n",
       "  ⋅    ⋅           ⋅          ⋅          ⋅       ⋅          ⋅           ⋅ \n",
       "  ⋅    ⋅           ⋅          ⋅          ⋅       ⋅          ⋅           ⋅ \n",
       "  ⋅    ⋅           ⋅          ⋅          ⋅       ⋅          ⋅           ⋅ \n",
       "  ⋅    ⋅           ⋅          ⋅      …   ⋅       ⋅          ⋅           ⋅ \n",
       "  ⋅    ⋅           ⋅          ⋅          ⋅       ⋅          ⋅           ⋅ \n",
       "  ⋅    ⋅           ⋅          ⋅         0.0196   ⋅          ⋅           ⋅ \n",
       "  ⋅    ⋅           ⋅          ⋅          ⋅      0.0131556   ⋅           ⋅ \n",
       "  ⋅    ⋅           ⋅          ⋅          ⋅       ⋅         0.00662222   ⋅ \n",
       "  ⋅    ⋅           ⋅          ⋅      …   ⋅       ⋅          ⋅          0.0"
      ]
     },
     "execution_count": 72,
     "metadata": {},
     "output_type": "execute_result"
    }
   ],
   "source": [
    "w=[gmean(state_zero[i]) for i in 1:length(state_zero)]\n",
    "W=Diagonal(w)"
   ]
  },
  {
   "cell_type": "code",
   "execution_count": 73,
   "metadata": {},
   "outputs": [
    {
     "data": {
      "text/plain": [
       "151×151 Array{Float64,2}:\n",
       " 1.0           0.0           0.0           …  0.0           0.0         \n",
       " 0.36665       0.36911       0.184555         0.0           0.0         \n",
       " 0.133527      0.270662      0.272491         6.1113e-278   5.50567e-282\n",
       " 0.048296      0.147845      0.224785         1.04903e-251  1.42725e-255\n",
       " 0.0173476     0.0712915     0.145513         4.30223e-233  7.85796e-237\n",
       " 0.00618745    0.032004      0.0822173     …  1.17571e-218  2.70279e-222\n",
       " 0.00219121    0.0136951     0.0425118        7.33333e-207  2.03704e-210\n",
       " 0.000770401   0.00565679    0.0206295        6.87617e-197  2.24397e-200\n",
       " 0.000268883   0.00227225    0.00953704       2.98606e-188  1.12153e-191\n",
       " 9.3149e-5     0.000891852   0.00424104       1.24095e-180  5.28065e-184\n",
       " 3.2027e-5     0.000343147   0.00182603    …  8.10085e-174  3.85755e-177\n",
       " 1.09278e-5    0.000129718   0.000764776      1.18284e-167  6.24042e-171\n",
       " 3.69976e-6    4.82578e-5    0.000312627      5.01519e-162  2.90735e-165\n",
       " ⋮                                         ⋱                ⋮           \n",
       " 6.24042e-171  1.18284e-167  1.11354e-164     0.000129718   1.09278e-5  \n",
       " 3.85755e-177  8.10085e-174  8.44918e-171  …  0.000343147   3.2027e-5   \n",
       " 5.28065e-184  1.24095e-180  1.4484e-177      0.000891852   9.3149e-5   \n",
       " 1.12153e-191  2.98606e-188  3.94869e-185     0.00227225    0.000268883 \n",
       " 2.24397e-200  6.87617e-197  1.0465e-193      0.00565679    0.000770401 \n",
       " 2.03704e-210  7.33333e-207  1.3112e-203      0.0136951     0.00219121  \n",
       " 2.70279e-222  1.17571e-218  2.54013e-215  …  0.032004      0.00618745  \n",
       " 7.85796e-237  4.30223e-233  1.16988e-229     0.0712915     0.0173476   \n",
       " 1.42725e-255  1.04903e-251  3.82947e-248     0.147845      0.048296    \n",
       " 5.50567e-282  6.1113e-278   3.36916e-274     0.270662      0.133527    \n",
       " 0.0           0.0           9.93813e-319     0.36911       0.36665     \n",
       " 0.0           0.0           0.0           …  0.0           1.0         "
      ]
     },
     "execution_count": 73,
     "metadata": {},
     "output_type": "execute_result"
    }
   ],
   "source": [
    "T_construct(N,seqtypes)"
   ]
  },
  {
   "cell_type": "code",
   "execution_count": 74,
   "metadata": {},
   "outputs": [
    {
     "data": {
      "text/plain": [
       "151×151 Array{Float64,2}:\n",
       " 1.0           0.0           0.0           …  0.0           0.0         \n",
       " 0.36665       0.36911       0.184555         0.0           0.0         \n",
       " 0.133527      0.270662      0.272491         6.1113e-278   5.50567e-282\n",
       " 0.048296      0.147845      0.224785         1.04903e-251  1.42725e-255\n",
       " 0.0173476     0.0712915     0.145513         4.30223e-233  7.85796e-237\n",
       " 0.00618745    0.032004      0.0822173     …  1.17571e-218  2.70279e-222\n",
       " 0.00219121    0.0136951     0.0425118        7.33333e-207  2.03704e-210\n",
       " 0.000770401   0.00565679    0.0206295        6.87617e-197  2.24397e-200\n",
       " 0.000268883   0.00227225    0.00953704       2.98606e-188  1.12153e-191\n",
       " 9.3149e-5     0.000891852   0.00424104       1.24095e-180  5.28065e-184\n",
       " 3.2027e-5     0.000343147   0.00182603    …  8.10085e-174  3.85755e-177\n",
       " 1.09278e-5    0.000129718   0.000764776      1.18284e-167  6.24042e-171\n",
       " 3.69976e-6    4.82578e-5    0.000312627      5.01519e-162  2.90735e-165\n",
       " ⋮                                         ⋱                ⋮           \n",
       " 6.24042e-171  1.18284e-167  1.11354e-164     0.000129718   1.09278e-5  \n",
       " 3.85755e-177  8.10085e-174  8.44918e-171  …  0.000343147   3.2027e-5   \n",
       " 5.28065e-184  1.24095e-180  1.4484e-177      0.000891852   9.3149e-5   \n",
       " 1.12153e-191  2.98606e-188  3.94869e-185     0.00227225    0.000268883 \n",
       " 2.24397e-200  6.87617e-197  1.0465e-193      0.00565679    0.000770401 \n",
       " 2.03704e-210  7.33333e-207  1.3112e-203      0.0136951     0.00219121  \n",
       " 2.70279e-222  1.17571e-218  2.54013e-215  …  0.032004      0.00618745  \n",
       " 7.85796e-237  4.30223e-233  1.16988e-229     0.0712915     0.0173476   \n",
       " 1.42725e-255  1.04903e-251  3.82947e-248     0.147845      0.048296    \n",
       " 5.50567e-282  6.1113e-278   3.36916e-274     0.270662      0.133527    \n",
       " 0.0           0.0           9.93813e-319     0.36911       0.36665     \n",
       " 0.0           0.0           0.0           …  0.0           1.0         "
      ]
     },
     "execution_count": 74,
     "metadata": {},
     "output_type": "execute_result"
    }
   ],
   "source": [
    "T=[t_ij(state_zero[i],state_zero[j]) for i in 1:length(state_zero), j in 1:length(state_zero)]"
   ]
  },
  {
   "cell_type": "code",
   "execution_count": 91,
   "metadata": {},
   "outputs": [
    {
     "data": {
      "text/plain": [
       "151×151 Array{Float64,2}:\n",
       "  0.0           0.0           0.0          …   0.0           0.0        \n",
       "  0.608535     -1.36299       0.945946         7.93941e-19   1.50848e-16\n",
       " -0.00210468    1.21496      -2.7131          -5.1173e-16   -1.70552e-16\n",
       "  1.8697e-5    -0.00634044    1.81923          8.37537e-17  -1.86038e-16\n",
       " -2.79153e-7    7.55577e-5   -0.012734        -2.53616e-15   1.63407e-17\n",
       "  5.94524e-9   -1.41883e-6    0.000190845  …   1.61354e-14  -7.06741e-16\n",
       " -1.657e-10     3.64853e-8   -4.32707e-6      -5.29999e-14   1.42277e-15\n",
       "  5.67351e-12  -1.19129e-9    1.30573e-7       1.39669e-13  -3.62584e-15\n",
       " -1.11962e-13   4.19479e-11  -4.79282e-9      -3.13807e-13   8.14995e-15\n",
       " -2.131e-13     8.07643e-12  -1.32842e-11      6.08968e-13  -1.477e-14  \n",
       "  3.62017e-13  -1.71303e-11   3.93118e-10  …  -1.06821e-12   2.37072e-14\n",
       " -5.33665e-13   2.618e-11    -6.29984e-10      1.73149e-12  -3.50806e-14\n",
       "  7.10057e-13  -3.57799e-11   8.80759e-10     -2.56202e-12   5.04362e-14\n",
       "  ⋮                                        ⋱                 ⋮          \n",
       "  5.63765e-13  -2.61824e-11   5.93668e-10      1.62794e-13   7.82303e-15\n",
       " -3.49348e-13   1.6417e-11   -3.76222e-10  …  -4.40925e-13   6.2478e-15 \n",
       "  1.86772e-13  -8.96561e-12   2.08273e-10     -1.64233e-12  -2.12612e-16\n",
       " -8.67722e-14   4.30132e-12  -1.01586e-10      4.70928e-11  -2.28853e-13\n",
       "  3.57721e-14  -1.82487e-12   4.38492e-11     -1.19376e-9    5.73125e-12\n",
       " -1.24958e-14   6.83597e-13  -1.67546e-11      3.64863e-8   -1.65726e-10\n",
       "  3.36062e-15  -2.2148e-13    5.6333e-12   …  -1.41883e-6    5.94525e-9 \n",
       " -1.03986e-16   5.91022e-14  -1.64026e-12      7.55577e-5   -2.79153e-7 \n",
       " -5.02747e-16  -1.05017e-14   4.00614e-13     -0.00634044    1.8697e-5  \n",
       "  1.64777e-16   6.23902e-16  -7.73133e-14      1.21496      -0.00210468 \n",
       " -4.90884e-16  -1.75928e-16   9.42491e-15     -1.36299       0.608535   \n",
       "  0.0           0.0           0.0          …   0.0           0.0        "
      ]
     },
     "execution_count": 91,
     "metadata": {},
     "output_type": "execute_result"
    }
   ],
   "source": [
    "Z=real(logm(T))"
   ]
  },
  {
   "cell_type": "code",
   "execution_count": 92,
   "metadata": {},
   "outputs": [
    {
     "data": {
      "text/plain": [
       "151×151 Tridiagonal{Float64}:\n",
       " 0.0        0.0        ⋅          ⋅       …    ⋅          ⋅        ⋅      \n",
       " 0.608535  -1.36299   0.945946    ⋅            ⋅          ⋅        ⋅      \n",
       "  ⋅         1.21496  -2.7131     1.8802        ⋅          ⋅        ⋅      \n",
       "  ⋅          ⋅        1.81923   -4.05025       ⋅          ⋅        ⋅      \n",
       "  ⋅          ⋅         ⋅         2.42133       ⋅          ⋅        ⋅      \n",
       "  ⋅          ⋅         ⋅          ⋅       …    ⋅          ⋅        ⋅      \n",
       "  ⋅          ⋅         ⋅          ⋅            ⋅          ⋅        ⋅      \n",
       "  ⋅          ⋅         ⋅          ⋅            ⋅          ⋅        ⋅      \n",
       "  ⋅          ⋅         ⋅          ⋅            ⋅          ⋅        ⋅      \n",
       "  ⋅          ⋅         ⋅          ⋅            ⋅          ⋅        ⋅      \n",
       "  ⋅          ⋅         ⋅          ⋅       …    ⋅          ⋅        ⋅      \n",
       "  ⋅          ⋅         ⋅          ⋅            ⋅          ⋅        ⋅      \n",
       "  ⋅          ⋅         ⋅          ⋅            ⋅          ⋅        ⋅      \n",
       " ⋮                                        ⋱                       ⋮       \n",
       "  ⋅          ⋅         ⋅          ⋅            ⋅          ⋅        ⋅      \n",
       "  ⋅          ⋅         ⋅          ⋅       …    ⋅          ⋅        ⋅      \n",
       "  ⋅          ⋅         ⋅          ⋅            ⋅          ⋅        ⋅      \n",
       "  ⋅          ⋅         ⋅          ⋅            ⋅          ⋅        ⋅      \n",
       "  ⋅          ⋅         ⋅          ⋅            ⋅          ⋅        ⋅      \n",
       "  ⋅          ⋅         ⋅          ⋅            ⋅          ⋅        ⋅      \n",
       "  ⋅          ⋅         ⋅          ⋅       …    ⋅          ⋅        ⋅      \n",
       "  ⋅          ⋅         ⋅          ⋅            ⋅          ⋅        ⋅      \n",
       "  ⋅          ⋅         ⋅          ⋅           1.81923     ⋅        ⋅      \n",
       "  ⋅          ⋅         ⋅          ⋅          -2.7131     1.21496   ⋅      \n",
       "  ⋅          ⋅         ⋅          ⋅           0.945946  -1.36299  0.608535\n",
       "  ⋅          ⋅         ⋅          ⋅       …    ⋅         0.0      0.0     "
      ]
     },
     "execution_count": 92,
     "metadata": {},
     "output_type": "execute_result"
    }
   ],
   "source": [
    "Tridiagonal(Z)"
   ]
  },
  {
   "cell_type": "code",
   "execution_count": 84,
   "metadata": {},
   "outputs": [
    {
     "data": {
      "text/plain": [
       "151-element Array{Float64,1}:\n",
       "   0.0    \n",
       "  -1.36299\n",
       "  -2.7131 \n",
       "  -4.05025\n",
       "  -5.37434\n",
       "  -6.68531\n",
       "  -7.98305\n",
       "  -9.26748\n",
       " -10.5385 \n",
       " -11.7958 \n",
       " -13.0379 \n",
       " -14.2584 \n",
       " -15.4363 \n",
       "   ⋮      \n",
       " -14.2678 \n",
       " -13.0397 \n",
       " -11.796  \n",
       " -10.5385 \n",
       "  -9.26748\n",
       "  -7.98305\n",
       "  -6.68531\n",
       "  -5.37434\n",
       "  -4.05025\n",
       "  -2.7131 \n",
       "  -1.36299\n",
       "   0.0    "
      ]
     },
     "execution_count": 84,
     "metadata": {},
     "output_type": "execute_result"
    }
   ],
   "source": [
    "diagind(Z)\n",
    "mean(Z[diagind(Z)])\n",
    "Z[diagind(Z)]"
   ]
  },
  {
   "cell_type": "code",
   "execution_count": 80,
   "metadata": {},
   "outputs": [
    {
     "data": {
      "text/plain": [
       "151×151 Tridiagonal{Float64}:\n",
       " -2.0   1.0    ⋅     ⋅     ⋅     ⋅   …    ⋅     ⋅     ⋅     ⋅     ⋅     ⋅ \n",
       "  1.0  -2.0   1.0    ⋅     ⋅     ⋅        ⋅     ⋅     ⋅     ⋅     ⋅     ⋅ \n",
       "   ⋅    1.0  -2.0   1.0    ⋅     ⋅        ⋅     ⋅     ⋅     ⋅     ⋅     ⋅ \n",
       "   ⋅     ⋅    1.0  -2.0   1.0    ⋅        ⋅     ⋅     ⋅     ⋅     ⋅     ⋅ \n",
       "   ⋅     ⋅     ⋅    1.0  -2.0   1.0       ⋅     ⋅     ⋅     ⋅     ⋅     ⋅ \n",
       "   ⋅     ⋅     ⋅     ⋅    1.0  -2.0  …    ⋅     ⋅     ⋅     ⋅     ⋅     ⋅ \n",
       "   ⋅     ⋅     ⋅     ⋅     ⋅    1.0       ⋅     ⋅     ⋅     ⋅     ⋅     ⋅ \n",
       "   ⋅     ⋅     ⋅     ⋅     ⋅     ⋅        ⋅     ⋅     ⋅     ⋅     ⋅     ⋅ \n",
       "   ⋅     ⋅     ⋅     ⋅     ⋅     ⋅        ⋅     ⋅     ⋅     ⋅     ⋅     ⋅ \n",
       "   ⋅     ⋅     ⋅     ⋅     ⋅     ⋅        ⋅     ⋅     ⋅     ⋅     ⋅     ⋅ \n",
       "   ⋅     ⋅     ⋅     ⋅     ⋅     ⋅   …    ⋅     ⋅     ⋅     ⋅     ⋅     ⋅ \n",
       "   ⋅     ⋅     ⋅     ⋅     ⋅     ⋅        ⋅     ⋅     ⋅     ⋅     ⋅     ⋅ \n",
       "   ⋅     ⋅     ⋅     ⋅     ⋅     ⋅        ⋅     ⋅     ⋅     ⋅     ⋅     ⋅ \n",
       "  ⋮                             ⋮    ⋱   ⋮                             ⋮  \n",
       "   ⋅     ⋅     ⋅     ⋅     ⋅     ⋅        ⋅     ⋅     ⋅     ⋅     ⋅     ⋅ \n",
       "   ⋅     ⋅     ⋅     ⋅     ⋅     ⋅   …    ⋅     ⋅     ⋅     ⋅     ⋅     ⋅ \n",
       "   ⋅     ⋅     ⋅     ⋅     ⋅     ⋅        ⋅     ⋅     ⋅     ⋅     ⋅     ⋅ \n",
       "   ⋅     ⋅     ⋅     ⋅     ⋅     ⋅        ⋅     ⋅     ⋅     ⋅     ⋅     ⋅ \n",
       "   ⋅     ⋅     ⋅     ⋅     ⋅     ⋅        ⋅     ⋅     ⋅     ⋅     ⋅     ⋅ \n",
       "   ⋅     ⋅     ⋅     ⋅     ⋅     ⋅       1.0    ⋅     ⋅     ⋅     ⋅     ⋅ \n",
       "   ⋅     ⋅     ⋅     ⋅     ⋅     ⋅   …  -2.0   1.0    ⋅     ⋅     ⋅     ⋅ \n",
       "   ⋅     ⋅     ⋅     ⋅     ⋅     ⋅       1.0  -2.0   1.0    ⋅     ⋅     ⋅ \n",
       "   ⋅     ⋅     ⋅     ⋅     ⋅     ⋅        ⋅    1.0  -2.0   1.0    ⋅     ⋅ \n",
       "   ⋅     ⋅     ⋅     ⋅     ⋅     ⋅        ⋅     ⋅    1.0  -2.0   1.0    ⋅ \n",
       "   ⋅     ⋅     ⋅     ⋅     ⋅     ⋅        ⋅     ⋅     ⋅    1.0  -2.0   1.0\n",
       "   ⋅     ⋅     ⋅     ⋅     ⋅     ⋅   …    ⋅     ⋅     ⋅     ⋅    1.0  -2.0"
      ]
     },
     "execution_count": 80,
     "metadata": {},
     "output_type": "execute_result"
    }
   ],
   "source": [
    "d=-2*ones(length(state_zero))\n",
    "dl=ones(length(state_zero)-1)\n",
    "du=ones(length(state_zero)-1)\n",
    "D=Tridiagonal(dl, d, du)"
   ]
  },
  {
   "cell_type": "code",
   "execution_count": 83,
   "metadata": {},
   "outputs": [
    {
     "data": {
      "text/plain": [
       "151-element Array{Float64,1}:\n",
       " -0.0      \n",
       " -0.0132444\n",
       " -0.0263111\n",
       " -0.0392   \n",
       " -0.0519111\n",
       " -0.0644444\n",
       " -0.0768   \n",
       " -0.0889778\n",
       " -0.100978 \n",
       " -0.1128   \n",
       " -0.124444 \n",
       " -0.135911 \n",
       " -0.1472   \n",
       "  ⋮        \n",
       " -0.135911 \n",
       " -0.124444 \n",
       " -0.1128   \n",
       " -0.100978 \n",
       " -0.0889778\n",
       " -0.0768   \n",
       " -0.0644444\n",
       " -0.0519111\n",
       " -0.0392   \n",
       " -0.0263111\n",
       " -0.0132444\n",
       " -0.0      "
      ]
     },
     "execution_count": 83,
     "metadata": {},
     "output_type": "execute_result"
    }
   ],
   "source": [
    "kimura=D*W\n",
    "kimura[diagind(kimura)]"
   ]
  },
  {
   "cell_type": "code",
   "execution_count": 90,
   "metadata": {},
   "outputs": [
    {
     "data": {
      "text/plain": [
       "151×151 Array{Float64,2}:\n",
       " -0.0   0.00662222   0.0         0.0     …   0.0         0.0          0.0\n",
       "  0.0  -0.0132444    0.0131556   0.0         0.0         0.0          0.0\n",
       "  0.0   0.00662222  -0.0263111   0.0196      0.0         0.0          0.0\n",
       "  0.0   0.0          0.0131556  -0.0392      0.0         0.0          0.0\n",
       "  0.0   0.0          0.0         0.0196      0.0         0.0          0.0\n",
       "  0.0   0.0          0.0         0.0     …   0.0         0.0          0.0\n",
       "  0.0   0.0          0.0         0.0         0.0         0.0          0.0\n",
       "  0.0   0.0          0.0         0.0         0.0         0.0          0.0\n",
       "  0.0   0.0          0.0         0.0         0.0         0.0          0.0\n",
       "  0.0   0.0          0.0         0.0         0.0         0.0          0.0\n",
       "  0.0   0.0          0.0         0.0     …   0.0         0.0          0.0\n",
       "  0.0   0.0          0.0         0.0         0.0         0.0          0.0\n",
       "  0.0   0.0          0.0         0.0         0.0         0.0          0.0\n",
       "  ⋮                                      ⋱                            ⋮  \n",
       "  0.0   0.0          0.0         0.0         0.0         0.0          0.0\n",
       "  0.0   0.0          0.0         0.0     …   0.0         0.0          0.0\n",
       "  0.0   0.0          0.0         0.0         0.0         0.0          0.0\n",
       "  0.0   0.0          0.0         0.0         0.0         0.0          0.0\n",
       "  0.0   0.0          0.0         0.0         0.0         0.0          0.0\n",
       "  0.0   0.0          0.0         0.0         0.0         0.0          0.0\n",
       "  0.0   0.0          0.0         0.0     …   0.0         0.0          0.0\n",
       "  0.0   0.0          0.0         0.0         0.0         0.0          0.0\n",
       "  0.0   0.0          0.0         0.0         0.0131556   0.0          0.0\n",
       "  0.0   0.0          0.0         0.0        -0.0263111   0.00662222   0.0\n",
       "  0.0   0.0          0.0         0.0         0.0131556  -0.0132444    0.0\n",
       "  0.0   0.0          0.0         0.0     …   0.0         0.00662222  -0.0"
      ]
     },
     "execution_count": 90,
     "metadata": {},
     "output_type": "execute_result"
    }
   ],
   "source": [
    "D*W"
   ]
  },
  {
   "cell_type": "markdown",
   "metadata": {},
   "source": [
    "# Dependence with N"
   ]
  },
  {
   "cell_type": "code",
   "execution_count": 13,
   "metadata": {},
   "outputs": [],
   "source": [
    "ploidy=vcat(collect(5:10),5*collect(3:20));\n",
    "n_dep=DataFrame();\n",
    "n_dep[:ploidy]=ploidy;\n",
    "trace=Array(Float64,length(ploidy));\n",
    "seqtypes=2;"
   ]
  },
  {
   "cell_type": "code",
   "execution_count": 8,
   "metadata": {},
   "outputs": [
    {
     "data": {
      "text/html": [
       "<table class=\"data-frame\"><thead><tr><th></th><th>ploidy</th></tr></thead><tbody><tr><th>1</th><td>5</td></tr><tr><th>2</th><td>6</td></tr><tr><th>3</th><td>7</td></tr><tr><th>4</th><td>8</td></tr><tr><th>5</th><td>9</td></tr><tr><th>6</th><td>10</td></tr><tr><th>7</th><td>15</td></tr><tr><th>8</th><td>20</td></tr><tr><th>9</th><td>25</td></tr><tr><th>10</th><td>30</td></tr><tr><th>11</th><td>35</td></tr><tr><th>12</th><td>40</td></tr><tr><th>13</th><td>45</td></tr><tr><th>14</th><td>50</td></tr><tr><th>15</th><td>55</td></tr><tr><th>16</th><td>60</td></tr><tr><th>17</th><td>65</td></tr><tr><th>18</th><td>70</td></tr><tr><th>19</th><td>75</td></tr><tr><th>20</th><td>80</td></tr><tr><th>21</th><td>85</td></tr><tr><th>22</th><td>90</td></tr><tr><th>23</th><td>95</td></tr><tr><th>24</th><td>100</td></tr><tr><th>25</th><td>150</td></tr><tr><th>26</th><td>200</td></tr><tr><th>27</th><td>300</td></tr><tr><th>28</th><td>400</td></tr><tr><th>29</th><td>500</td></tr><tr><th>30</th><td>600</td></tr><tr><th>&vellip;</th><td>&vellip;</td></tr></tbody></table>"
      ],
      "text/plain": [
       "35×1 DataFrames.DataFrame\n",
       "│ Row │ ploidy │\n",
       "├─────┼────────┤\n",
       "│ 1   │ 5      │\n",
       "│ 2   │ 6      │\n",
       "│ 3   │ 7      │\n",
       "│ 4   │ 8      │\n",
       "│ 5   │ 9      │\n",
       "│ 6   │ 10     │\n",
       "│ 7   │ 15     │\n",
       "│ 8   │ 20     │\n",
       "│ 9   │ 25     │\n",
       "│ 10  │ 30     │\n",
       "│ 11  │ 35     │\n",
       "⋮\n",
       "│ 24  │ 100    │\n",
       "│ 25  │ 150    │\n",
       "│ 26  │ 200    │\n",
       "│ 27  │ 300    │\n",
       "│ 28  │ 400    │\n",
       "│ 29  │ 500    │\n",
       "│ 30  │ 600    │\n",
       "│ 31  │ 700    │\n",
       "│ 32  │ 800    │\n",
       "│ 33  │ 900    │\n",
       "│ 34  │ 1000   │\n",
       "│ 35  │ 1100   │"
      ]
     },
     "execution_count": 8,
     "metadata": {},
     "output_type": "execute_result"
    }
   ],
   "source": [
    "for x in ploidy   \n",
    "    T=T_construct(x,seqtypes)\n",
    "    Z=real(logm(T))\n",
    "    \n",
    "\n",
    "    \n",
    "    \n",
    "end"
   ]
  }
 ],
 "metadata": {
  "kernelspec": {
   "display_name": "Julia 0.6.2",
   "language": "julia",
   "name": "julia-0.6"
  },
  "language_info": {
   "file_extension": ".jl",
   "mimetype": "application/julia",
   "name": "julia",
   "version": "0.6.2"
  }
 },
 "nbformat": 4,
 "nbformat_minor": 2
}
